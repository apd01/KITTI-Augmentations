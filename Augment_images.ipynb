{
 "cells": [
  {
   "cell_type": "code",
   "execution_count": 1,
   "id": "6f40140c",
   "metadata": {},
   "outputs": [],
   "source": [
    "import os\n",
    "import os.path as osp\n",
    "import cv2\n",
    "import shutil\n",
    "import random\n",
    "from tqdm.notebook import tqdm\n",
    "from augmentations import augmentation_choices, transform_image"
   ]
  },
  {
   "cell_type": "code",
   "execution_count": null,
   "id": "df98cb3c",
   "metadata": {},
   "outputs": [],
   "source": [
    "# augmentation_choices = [\n",
    "#                   'gaussian', 'localvar', 'poisson', 'salt', 'pepper', 's&p', 'speckle', 'affine', # skimage\n",
    "#                   'rain', 'shadow', 'flare', 'snow' # Albumentations\n",
    "#                   ]\n",
    "augmentation_choices = ['gaussian', 'rain', 'shadow', 'flare', 'snow']"
   ]
  },
  {
   "cell_type": "code",
   "execution_count": null,
   "id": "0b777e81",
   "metadata": {},
   "outputs": [],
   "source": [
    "# In this cell, define a function to save the NEW split files\n",
    "# Save a split file for EACH augmentation\n",
    "# and one for the whole augmented dataset"
   ]
  },
  {
   "cell_type": "code",
   "execution_count": null,
   "id": "152af7a8",
   "metadata": {},
   "outputs": [],
   "source": [
    "def make_subdir(subdir):\n",
    "    if not osp.isdir(subdir):\n",
    "        try:\n",
    "            os.mkdir(subdir)\n",
    "        except FileNotFoundError:\n",
    "            print(\"Make sure the parent folder exists\")"
   ]
  },
  {
   "cell_type": "code",
   "execution_count": 5,
   "id": "6f90265e",
   "metadata": {
    "scrolled": true
   },
   "outputs": [
    {
     "data": {
      "application/vnd.jupyter.widget-view+json": {
       "model_id": "df851ec120244f609554914f0b4a8fea",
       "version_major": 2,
       "version_minor": 0
      },
      "text/plain": [
       "Augmenting input files...: 0it [00:00, ?it/s]"
      ]
     },
     "metadata": {},
     "output_type": "display_data"
    },
    {
     "name": "stdout",
     "output_type": "stream",
     "text": [
      "-----\n",
      "E:\\Thesis_Datasets\\kitti_full\\2011_09_26/2011_09_26_drive_0002_sync/image_02/data/0000000075.png  exists:  True\n",
      "E:\\Thesis_Datasets\\kitti_full\\val\\None  exists: False\n",
      "-----\n",
      "E:\\Thesis_Datasets\\kitti_full\\2011_09_26/2011_09_26_drive_0002_sync/image_02/data/0000000072.png  exists:  True\n",
      "E:\\Thesis_Datasets\\kitti_full\\val\\None  exists: False\n",
      "-----\n",
      "E:\\Thesis_Datasets\\kitti_full\\2011_09_26/2011_09_26_drive_0002_sync/image_02/data/0000000003.png  exists:  True\n",
      "E:\\Thesis_Datasets\\kitti_full\\val\\None  exists: False\n",
      "Lines: 11\n"
     ]
    }
   ],
   "source": [
    "split_file = 'kitti_eigen_test.txt'\n",
    "input_prefix_path = \"E:\\Thesis_Datasets\\\\kitti_full\\\\\"\n",
    "input_depth_dir = 'val'\n",
    "valid_image_count = 0\n",
    "img_infos = []\n",
    "output_prefix_path = \"E:\\Thesis_Datasets\\\\Augmented_Images\\\\\"\n",
    "output_image_folder = \"Data\\\\\"\n",
    "output_depth_folder = \"Depth\\\\\"\n",
    "\n",
    "if split_file is not None:\n",
    "    with open(split_file) as f:\n",
    "        for line in tqdm(f, desc=\"Augmenting input files...\"):\n",
    "            img_name = line.strip().split(\" \")[0]\n",
    "            img_name = osp.join(input_prefix_path, img_name)\n",
    "            depth_map = line.strip().split(\" \")[1]\n",
    "            depth_map = osp.join(input_prefix_path, input_depth_dir, depth_map)\n",
    "            \n",
    "            if osp.isfile(img_name) and osp.isfile(depth_map):\n",
    "                valid_image_count += 1\n",
    "                \n",
    "                # Ensure the folder exists\n",
    "                if not osp.isdir(osp.join(output_prefix_path, output_depth_folder)):\n",
    "                    try:\n",
    "                        os.mkdir(osp.join(output_prefix_path, output_depth_folder))\n",
    "                    except FileNotFoundError:\n",
    "                        print(\"Make sure the parent folder exists\")\n",
    "                \n",
    "                #   Copy depth map\n",
    "                shutil.copy(depth_map,\n",
    "                            osp.join(output_prefix_path, output_depth_folder, depth_map.split('/')[-1]))\n",
    "                            \n",
    "                #   For each augmentation type:\n",
    "                for aug in augmentation_choices:\n",
    "                    if not osp.isdir(osp.join(output_prefix_path, output_image_folder, aug)):\n",
    "                        try:\n",
    "                            os.mkdir(osp.join(output_prefix_path, output_image_folder, aug))\n",
    "                        except FileNotFoundError:\n",
    "                            print(\"Make sure the parent folder exists\")\n",
    "                            \n",
    "                    # if aug = affine, depth map needs to be augmented with the same scale, rotation and shear\n",
    "                    if aug == 'affine':\n",
    "                        scale=(1.1, 1.1)\n",
    "                        rotation=random.uniform(-0.05, 0.05)\n",
    "                        shear=random.uniform(-0.1, 0.1)\n",
    "                        \n",
    "                        img = transform_image(aug, cv2.imread(img_name), scale, rotation, shear)\n",
    "                        augmented_depth = transform_image(aug, cv2.imread(depth_map), scale, rotation, shear)\n",
    "                        \n",
    "                        cv2.imwrite(osp.join(output_prefix_path, \n",
    "                                         output_image_folder, \n",
    "                                         aug, \n",
    "                                         img_name[img_name.rfind('/')+1:-4] + \"_affine.png\"),\n",
    "                                    augmented_depth)\n",
    "                        # Save augmented depth file as <depth/xxxxxx_affine.png> \n",
    "                        # insert [rgb_file, depth_file, augmentation_type] into LIST\n",
    "\n",
    "                    else:\n",
    "                        img = transform_image(aug, cv2.imread(img_name))\n",
    "\n",
    "                    # Save file with new name in /<augmentation_type>/ folder\n",
    "                    cv2.imwrite(osp.join(output_prefix_path, \n",
    "                                         output_image_folder, \n",
    "                                         aug, \n",
    "                                         img_name.split('/')[-1]),\n",
    "                                img)\n",
    "                #      insert [rgb_file, depth_file, augmentation_type] into LIST\n",
    "            else:\n",
    "                print(\"-----\")\n",
    "                print(img_name, \" exists: \", osp.isfile(img_name))\n",
    "                print(depth_map, \" exists:\", osp.isfile(depth_map))\n",
    "                \n",
    "            if valid_image_count > 10:\n",
    "                break\n",
    "            \n",
    "            \n",
    "            \n",
    "\n",
    "print(f\"Lines: {valid_image_count}\")\n"
   ]
  },
  {
   "cell_type": "code",
   "execution_count": null,
   "id": "29383c24",
   "metadata": {},
   "outputs": [],
   "source": [
    "print(osp.join(output_prefix_path, \n",
    "                                             output_image_folder, \n",
    "                                             aug, \n",
    "                                             img_name[img_name.rfind('/')+1:]))"
   ]
  },
  {
   "cell_type": "code",
   "execution_count": 4,
   "id": "c528105c",
   "metadata": {},
   "outputs": [
    {
     "data": {
      "text/plain": [
       "'E:\\\\Thesis_Datasets\\\\Augmented_Images\\\\Data\\\\snow\\\\0000000039_affine.png'"
      ]
     },
     "execution_count": 4,
     "metadata": {},
     "output_type": "execute_result"
    }
   ],
   "source": [
    "osp.join(output_prefix_path, \n",
    "                                         output_image_folder, \n",
    "                                         aug, \n",
    "                                         img_name[img_name.rfind('/')+1:-4]+\"_affine.png\")"
   ]
  },
  {
   "cell_type": "code",
   "execution_count": null,
   "id": "f52c0750",
   "metadata": {},
   "outputs": [],
   "source": [
    "depth_map[92:]"
   ]
  },
  {
   "cell_type": "code",
   "execution_count": null,
   "id": "ec9de98d",
   "metadata": {},
   "outputs": [],
   "source": [
    "print(depth_map[depth_map.rfind('/')+1:])"
   ]
  },
  {
   "cell_type": "code",
   "execution_count": null,
   "id": "c058f9ec",
   "metadata": {},
   "outputs": [],
   "source": [
    "print(osp.join(prefix_path, depth_map))\n",
    "print(osp.isfile(osp.join(prefix_path, img_name)))"
   ]
  },
  {
   "cell_type": "code",
   "execution_count": null,
   "id": "46380a1d",
   "metadata": {
    "scrolled": true
   },
   "outputs": [],
   "source": [
    "# print(osp.isfile(osp.join(\"e:\\Thesis_Datasets\\\\kitti_full\\\\\", \"2011_09_26/2011_09_26_drive_0001_sync/image_00\", \"timestamps.txt\")))\n",
    "print((osp.join(\"E:\\Thesis_Datasets\\\\kitti_full\\\\\", \"2011_09_26\\\\2011_09_26_drive_0001_sync\\\\image_00\", split_file)))"
   ]
  },
  {
   "cell_type": "code",
   "execution_count": null,
   "id": "e90651a8",
   "metadata": {},
   "outputs": [],
   "source": [
    "img_info = dict()\n",
    "            if depth_dir is not None: # benchmark test or unsupervised future\n",
    "                depth_map = line.strip().split(\" \")[1]                        \n",
    "                if (depth_map == 'None') or not osp.isfile(osp.join(depth_dir, depth_map)):\n",
    "                    continue\n",
    "                img_info['ann'] = dict(depth_map=depth_map)\n",
    "            img_name = line.strip().split(\" \")[0]\n",
    "            img_info['filename'] = img_name\n",
    "            img_infos.append(img_info)"
   ]
  }
 ],
 "metadata": {
  "kernelspec": {
   "display_name": "Python 3",
   "language": "python",
   "name": "python3"
  },
  "language_info": {
   "codemirror_mode": {
    "name": "ipython",
    "version": 3
   },
   "file_extension": ".py",
   "mimetype": "text/x-python",
   "name": "python",
   "nbconvert_exporter": "python",
   "pygments_lexer": "ipython3",
   "version": "3.9.5"
  }
 },
 "nbformat": 4,
 "nbformat_minor": 5
}
