{
 "cells": [
  {
   "cell_type": "markdown",
   "id": "71e5723d",
   "metadata": {},
   "source": [
    "# Generate augmentations and split files\n",
    "#### 12 augmentations\n",
    "#### 1 original\n",
    "#### Affine transform: Both original image and depth map must be augmented"
   ]
  },
  {
   "cell_type": "code",
   "execution_count": 1,
   "id": "093e56f0",
   "metadata": {},
   "outputs": [],
   "source": [
    "import os\n",
    "import os.path as osp\n",
    "import cv2\n",
    "import shutil\n",
    "import random\n",
    "import pandas as pd\n",
    "from tqdm.notebook import tqdm\n",
    "from augmentations import augmentation_choices, transform_image"
   ]
  },
  {
   "cell_type": "code",
   "execution_count": 2,
   "id": "3c675808",
   "metadata": {},
   "outputs": [],
   "source": [
    "def make_subdir(subdir):\n",
    "    if not osp.isdir(subdir):\n",
    "        try:\n",
    "            os.mkdir(subdir)\n",
    "        except FileNotFoundError:\n",
    "            print(\"Make sure the parent folder exists\")"
   ]
  },
  {
   "cell_type": "code",
   "execution_count": 3,
   "id": "05e1d8ee",
   "metadata": {},
   "outputs": [],
   "source": [
    "split_file = 'kitti_eigen_test.txt'\n",
    "input_prefix_path = \"E:\\Thesis_Datasets\\\\kitti_full\\\\\"\n",
    "input_depth_folder = 'val'\n",
    "valid_image_count = 0\n",
    "output_prefix_path = \"E:\\Thesis_Datasets\\\\Augmented_Images\\\\\"\n",
    "output_image_folder = \"Data\\\\\"\n",
    "output_depth_folder = \"Depth\\\\\"\n",
    "image_data = []"
   ]
  },
  {
   "cell_type": "code",
   "execution_count": 4,
   "id": "2c057c85",
   "metadata": {},
   "outputs": [
    {
     "data": {
      "application/vnd.jupyter.widget-view+json": {
       "model_id": "f8fb89a1db384d8c802c92dffc88a88a",
       "version_major": 2,
       "version_minor": 0
      },
      "text/plain": [
       "Augmenting input files...:   0%|          | 0/697 [00:00<?, ?it/s]"
      ]
     },
     "metadata": {},
     "output_type": "display_data"
    },
    {
     "name": "stdout",
     "output_type": "stream",
     "text": [
      "Total valid images:  652\n"
     ]
    }
   ],
   "source": [
    "valid_image_count = 0\n",
    "with open(split_file) as f:\n",
    "    for line in tqdm(f, desc=\"Augmenting input files...\", total=697):\n",
    "        img_name = line.strip().split(\" \")[0]\n",
    "        img_name = osp.join(input_prefix_path, img_name)\n",
    "        depth_file = line.strip().split(\" \")[1]\n",
    "        depth_map = osp.join(input_prefix_path, input_depth_folder, depth_file)\n",
    "\n",
    "        if not osp.isfile(depth_map):\n",
    "            depth_map = osp.join(input_prefix_path, 'train', depth_file)\n",
    "        if osp.isfile(img_name) and osp.isfile(depth_map):\n",
    "            valid_image_count += 1\n",
    "        \n",
    "print(\"Total valid images: \", valid_image_count)"
   ]
  },
  {
   "cell_type": "code",
   "execution_count": 5,
   "id": "3c83bf78",
   "metadata": {},
   "outputs": [
    {
     "name": "stdout",
     "output_type": "stream",
     "text": [
      "None\n",
      "gaussian\n",
      "localvar\n",
      "poisson\n",
      "salt\n",
      "pepper\n",
      "s&p\n",
      "speckle\n",
      "affine\n",
      "rain\n",
      "shadow\n",
      "flare\n",
      "snow\n"
     ]
    }
   ],
   "source": [
    "for aug in augmentation_choices:\n",
    "    print(aug)"
   ]
  },
  {
   "cell_type": "code",
   "execution_count": 6,
   "id": "bb03d730",
   "metadata": {
    "scrolled": true
   },
   "outputs": [
    {
     "data": {
      "application/vnd.jupyter.widget-view+json": {
       "model_id": "49e51db5d6044610943cc38b89ecbd16",
       "version_major": 2,
       "version_minor": 0
      },
      "text/plain": [
       "Augmenting input files...:   0%|          | 0/697 [00:00<?, ?it/s]"
      ]
     },
     "metadata": {},
     "output_type": "display_data"
    },
    {
     "name": "stdout",
     "output_type": "stream",
     "text": [
      "Total augmented files: 1304\n"
     ]
    }
   ],
   "source": [
    "with open(split_file) as f:\n",
    "    for line in tqdm(f, desc=\"Augmenting input files...\", total=697):\n",
    "        img_name = line.strip().split(\" \")[0]\n",
    "        img_name = osp.join(input_prefix_path, img_name)\n",
    "        depth_file = line.strip().split(\" \")[1]\n",
    "        depth_map = osp.join(input_prefix_path, input_depth_folder, depth_file)\n",
    "        \n",
    "        if not osp.isfile(depth_map):\n",
    "            depth_map = osp.join(input_prefix_path, 'train', depth_file)\n",
    "\n",
    "        if osp.isfile(img_name) and osp.isfile(depth_map):\n",
    "            valid_image_count += 1\n",
    "\n",
    "            # Ensure the folder exists\n",
    "            make_subdir(osp.join(output_prefix_path, output_depth_folder))\n",
    "\n",
    "            #   Copy depth map\n",
    "            shutil.copy(depth_map,\n",
    "                        osp.join(output_prefix_path, output_depth_folder, depth_map.split('/')[-1]))\n",
    "\n",
    "            #   For each augmentation type:\n",
    "            for aug in augmentation_choices:\n",
    "                if aug == None:\n",
    "                    aug = \"None\"\n",
    "                \n",
    "                make_subdir(osp.join(output_prefix_path, output_image_folder, aug))\n",
    "\n",
    "                # if aug = affine, depth map needs to be augmented with the same scale, rotation and shear\n",
    "                if aug == 'affine':\n",
    "                    make_subdir(osp.join(output_prefix_path, output_depth_folder, aug))\n",
    "\n",
    "                    scale=(1.1, 1.1)\n",
    "                    rotation=random.uniform(-0.05, 0.05)\n",
    "                    shear=random.uniform(-0.1, 0.1)\n",
    "\n",
    "                    img = transform_image(aug, cv2.imread(img_name), scale, rotation, shear)\n",
    "                    augmented_depth = transform_image(aug, cv2.imread(depth_map), scale, rotation, shear)\n",
    "\n",
    "                    # Save transformed depth map in Depth/affine/xxxxxxx_affine.png\n",
    "                    cv2.imwrite(osp.join(output_prefix_path, \n",
    "                                     output_depth_folder, \n",
    "                                     aug, \n",
    "                                     img_name[img_name.rfind('/')+1:-4] + \"_affine.png\"),\n",
    "                                augmented_depth)\n",
    "                    \n",
    "                    # Insert [rgb_file, depth_file, augmentation_type] into list\n",
    "                    image_data.append([osp.join(output_image_folder, aug, img_name.split('/')[-1]),\n",
    "                                       osp.join(output_depth_folder, aug, depth_file.split('/')[-1][:-4] + \"_affine.png\"),\n",
    "                                       aug])\n",
    "                # For all other augmentation types:                       \n",
    "                else:\n",
    "                    img = transform_image(aug, cv2.imread(img_name))\n",
    "                    # Insert [rgb_file, depth_file, augmentation_type] into list\n",
    "                    image_data.append([osp.join(output_image_folder, aug, img_name.split('/')[-1]),\n",
    "                                       osp.join(output_depth_folder, depth_file.split('/')[-1]),\n",
    "                                       aug])\n",
    "                    \n",
    "                # Save file with new name in /<augmentation_type>/ folder\n",
    "                cv2.imwrite(osp.join(output_prefix_path, \n",
    "                                     output_image_folder, \n",
    "                                     aug, \n",
    "                                     img_name.split('/')[-1]),\n",
    "                            img)\n",
    "\n",
    "print(f\"Total augmented files: {valid_image_count}\")\n"
   ]
  },
  {
   "cell_type": "code",
   "execution_count": null,
   "id": "64c7b854",
   "metadata": {},
   "outputs": [],
   "source": [
    "# print(osp.join(output_prefix_path, \n",
    "#                                      output_image_folder, \n",
    "#                                      aug, \n",
    "#                                      img_name.split('/')[-1]))"
   ]
  },
  {
   "cell_type": "code",
   "execution_count": null,
   "id": "2b7f7666",
   "metadata": {},
   "outputs": [],
   "source": [
    "# image_data_df['image'][0].replace"
   ]
  },
  {
   "cell_type": "code",
   "execution_count": 7,
   "id": "87822c0b",
   "metadata": {
    "scrolled": true
   },
   "outputs": [
    {
     "data": {
      "text/html": [
       "<div>\n",
       "<style scoped>\n",
       "    .dataframe tbody tr th:only-of-type {\n",
       "        vertical-align: middle;\n",
       "    }\n",
       "\n",
       "    .dataframe tbody tr th {\n",
       "        vertical-align: top;\n",
       "    }\n",
       "\n",
       "    .dataframe thead th {\n",
       "        text-align: right;\n",
       "    }\n",
       "</style>\n",
       "<table border=\"1\" class=\"dataframe\">\n",
       "  <thead>\n",
       "    <tr style=\"text-align: right;\">\n",
       "      <th></th>\n",
       "      <th>image</th>\n",
       "      <th>depth</th>\n",
       "      <th>augmentation</th>\n",
       "    </tr>\n",
       "  </thead>\n",
       "  <tbody>\n",
       "    <tr>\n",
       "      <th>0</th>\n",
       "      <td>Data/None/0000000069.png</td>\n",
       "      <td>Depth/0000000069.png</td>\n",
       "      <td>None</td>\n",
       "    </tr>\n",
       "    <tr>\n",
       "      <th>1</th>\n",
       "      <td>Data/gaussian/0000000069.png</td>\n",
       "      <td>Depth/0000000069.png</td>\n",
       "      <td>gaussian</td>\n",
       "    </tr>\n",
       "    <tr>\n",
       "      <th>2</th>\n",
       "      <td>Data/localvar/0000000069.png</td>\n",
       "      <td>Depth/0000000069.png</td>\n",
       "      <td>localvar</td>\n",
       "    </tr>\n",
       "    <tr>\n",
       "      <th>3</th>\n",
       "      <td>Data/poisson/0000000069.png</td>\n",
       "      <td>Depth/0000000069.png</td>\n",
       "      <td>poisson</td>\n",
       "    </tr>\n",
       "    <tr>\n",
       "      <th>4</th>\n",
       "      <td>Data/salt/0000000069.png</td>\n",
       "      <td>Depth/0000000069.png</td>\n",
       "      <td>salt</td>\n",
       "    </tr>\n",
       "    <tr>\n",
       "      <th>5</th>\n",
       "      <td>Data/pepper/0000000069.png</td>\n",
       "      <td>Depth/0000000069.png</td>\n",
       "      <td>pepper</td>\n",
       "    </tr>\n",
       "    <tr>\n",
       "      <th>6</th>\n",
       "      <td>Data/s&amp;p/0000000069.png</td>\n",
       "      <td>Depth/0000000069.png</td>\n",
       "      <td>s&amp;p</td>\n",
       "    </tr>\n",
       "    <tr>\n",
       "      <th>7</th>\n",
       "      <td>Data/speckle/0000000069.png</td>\n",
       "      <td>Depth/0000000069.png</td>\n",
       "      <td>speckle</td>\n",
       "    </tr>\n",
       "    <tr>\n",
       "      <th>8</th>\n",
       "      <td>Data/affine/0000000069.png</td>\n",
       "      <td>Depth/affine/0000000069_affine.png</td>\n",
       "      <td>affine</td>\n",
       "    </tr>\n",
       "    <tr>\n",
       "      <th>9</th>\n",
       "      <td>Data/rain/0000000069.png</td>\n",
       "      <td>Depth/0000000069.png</td>\n",
       "      <td>rain</td>\n",
       "    </tr>\n",
       "  </tbody>\n",
       "</table>\n",
       "</div>"
      ],
      "text/plain": [
       "                          image                               depth  \\\n",
       "0      Data/None/0000000069.png                Depth/0000000069.png   \n",
       "1  Data/gaussian/0000000069.png                Depth/0000000069.png   \n",
       "2  Data/localvar/0000000069.png                Depth/0000000069.png   \n",
       "3   Data/poisson/0000000069.png                Depth/0000000069.png   \n",
       "4      Data/salt/0000000069.png                Depth/0000000069.png   \n",
       "5    Data/pepper/0000000069.png                Depth/0000000069.png   \n",
       "6       Data/s&p/0000000069.png                Depth/0000000069.png   \n",
       "7   Data/speckle/0000000069.png                Depth/0000000069.png   \n",
       "8    Data/affine/0000000069.png  Depth/affine/0000000069_affine.png   \n",
       "9      Data/rain/0000000069.png                Depth/0000000069.png   \n",
       "\n",
       "  augmentation  \n",
       "0         None  \n",
       "1     gaussian  \n",
       "2     localvar  \n",
       "3      poisson  \n",
       "4         salt  \n",
       "5       pepper  \n",
       "6          s&p  \n",
       "7      speckle  \n",
       "8       affine  \n",
       "9         rain  "
      ]
     },
     "execution_count": 7,
     "metadata": {},
     "output_type": "execute_result"
    }
   ],
   "source": [
    "# Ensure we are using linux-style '/' instead of windows '\\' or '\\\\'\n",
    "\n",
    "image_data_df = pd.DataFrame(image_data, columns=['image', 'depth', 'augmentation'])\n",
    "image_data_df['image'] = image_data_df['image'].apply(lambda x: x.replace('\\\\', r'/'))\n",
    "image_data_df['depth'] = image_data_df['depth'].apply(lambda x: x.replace('\\\\', r'/'))\n",
    "image_data_df.head(10)"
   ]
  },
  {
   "cell_type": "markdown",
   "id": "0f93d4b1",
   "metadata": {},
   "source": [
    "Create a split_file_<aug>.txt for each augmentation type, and save the full dataframe as a pickle."
   ]
  },
  {
   "cell_type": "code",
   "execution_count": 8,
   "id": "ae82c493",
   "metadata": {},
   "outputs": [],
   "source": [
    "for aug in augmentation_choices[1:]:\n",
    "    subset = image_data_df.loc[image_data_df.augmentation == aug]\n",
    "    subset[['image', 'depth']].to_csv('E:\\Thesis_Datasets\\Augmented_Images\\split_file_'+aug+'.txt', sep=' ', index=False, header=False)\n",
    "image_data_df.to_pickle('image_data_df.pkl')"
   ]
  },
  {
   "cell_type": "code",
   "execution_count": 12,
   "id": "b183f228",
   "metadata": {},
   "outputs": [],
   "source": [
    "subset = image_data_df.loc[image_data_df.augmentation == 'None']\n",
    "subset[['image', 'depth']].to_csv('E:\\Thesis_Datasets\\Augmented_Images\\split_file_'+'None.txt', sep=' ', index=False, header=False)"
   ]
  },
  {
   "cell_type": "code",
   "execution_count": 11,
   "id": "57f2504a",
   "metadata": {},
   "outputs": [
    {
     "data": {
      "text/html": [
       "<div>\n",
       "<style scoped>\n",
       "    .dataframe tbody tr th:only-of-type {\n",
       "        vertical-align: middle;\n",
       "    }\n",
       "\n",
       "    .dataframe tbody tr th {\n",
       "        vertical-align: top;\n",
       "    }\n",
       "\n",
       "    .dataframe thead th {\n",
       "        text-align: right;\n",
       "    }\n",
       "</style>\n",
       "<table border=\"1\" class=\"dataframe\">\n",
       "  <thead>\n",
       "    <tr style=\"text-align: right;\">\n",
       "      <th></th>\n",
       "      <th>image</th>\n",
       "      <th>depth</th>\n",
       "      <th>augmentation</th>\n",
       "    </tr>\n",
       "  </thead>\n",
       "  <tbody>\n",
       "    <tr>\n",
       "      <th>0</th>\n",
       "      <td>Data/None/0000000069.png</td>\n",
       "      <td>Depth/0000000069.png</td>\n",
       "      <td>None</td>\n",
       "    </tr>\n",
       "    <tr>\n",
       "      <th>13</th>\n",
       "      <td>Data/None/0000000054.png</td>\n",
       "      <td>Depth/0000000054.png</td>\n",
       "      <td>None</td>\n",
       "    </tr>\n",
       "    <tr>\n",
       "      <th>26</th>\n",
       "      <td>Data/None/0000000042.png</td>\n",
       "      <td>Depth/0000000042.png</td>\n",
       "      <td>None</td>\n",
       "    </tr>\n",
       "    <tr>\n",
       "      <th>39</th>\n",
       "      <td>Data/None/0000000057.png</td>\n",
       "      <td>Depth/0000000057.png</td>\n",
       "      <td>None</td>\n",
       "    </tr>\n",
       "    <tr>\n",
       "      <th>52</th>\n",
       "      <td>Data/None/0000000030.png</td>\n",
       "      <td>Depth/0000000030.png</td>\n",
       "      <td>None</td>\n",
       "    </tr>\n",
       "  </tbody>\n",
       "</table>\n",
       "</div>"
      ],
      "text/plain": [
       "                       image                 depth augmentation\n",
       "0   Data/None/0000000069.png  Depth/0000000069.png         None\n",
       "13  Data/None/0000000054.png  Depth/0000000054.png         None\n",
       "26  Data/None/0000000042.png  Depth/0000000042.png         None\n",
       "39  Data/None/0000000057.png  Depth/0000000057.png         None\n",
       "52  Data/None/0000000030.png  Depth/0000000030.png         None"
      ]
     },
     "execution_count": 11,
     "metadata": {},
     "output_type": "execute_result"
    }
   ],
   "source": [
    "subset.head()"
   ]
  }
 ],
 "metadata": {
  "kernelspec": {
   "display_name": "Python 3",
   "language": "python",
   "name": "python3"
  },
  "language_info": {
   "codemirror_mode": {
    "name": "ipython",
    "version": 3
   },
   "file_extension": ".py",
   "mimetype": "text/x-python",
   "name": "python",
   "nbconvert_exporter": "python",
   "pygments_lexer": "ipython3",
   "version": "3.9.5"
  }
 },
 "nbformat": 4,
 "nbformat_minor": 5
}
